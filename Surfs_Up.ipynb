{
 "cells": [
  {
   "cell_type": "code",
   "execution_count": 1,
   "id": "c5bb8ee0-0b0e-40fe-954f-572fbbf1da8a",
   "metadata": {},
   "outputs": [],
   "source": [
    "%matplotlib inline\n",
    "from matplotlib import style\n",
    "style.use('fivethirtyeight')\n",
    "import matplotlib.pyplot as plt\n",
    "from matplotlib.dates import DateFormatter\n",
    "import matplotlib.dates as mdates\n",
    "from matplotlib.pyplot import figure\n",
    "import numpy as np\n",
    "import pandas as pd\n",
    "import datetime as dt"
   ]
  },
  {
   "cell_type": "code",
   "execution_count": 2,
   "id": "7e69f023-b9e7-409e-81f7-661f48676c20",
   "metadata": {},
   "outputs": [
    {
     "data": {
      "text/plain": [
       "{'_sa_instance_state': <sqlalchemy.orm.state.InstanceState at 0x21cf5e35be0>,\n",
       " 'date': '2010-01-01',\n",
       " 'id': 1,\n",
       " 'tobs': 65.0,\n",
       " 'prcp': 0.08,\n",
       " 'station': 'USC00519397'}"
      ]
     },
     "execution_count": 2,
     "metadata": {},
     "output_type": "execute_result"
    }
   ],
   "source": [
    "import sqlalchemy\n",
    "from sqlalchemy.ext.automap import automap_base\n",
    "from sqlalchemy.orm import Session\n",
    "from sqlalchemy import create_engine, func\n",
    "\n",
    "# create engine to hawaii.sqlite\n",
    "engine = create_engine(\"sqlite:///Resources//hawaii.sqlite\")\n",
    "engine\n",
    "\n",
    "# reflect an existing database into a new model\n",
    "conn = engine.connect()\n",
    "Base = automap_base()\n",
    "\n",
    "# reflect the tables\n",
    "Base.prepare(engine, reflect=True)\n",
    "\n",
    "# View all of the classes that automap found\n",
    "Base.classes.keys()\n",
    "\n",
    "# Save references to each table\n",
    "measurements = Base.classes.measurement\n",
    "station = Base.classes.station\n",
    "\n",
    "# Create our session (link) from Python to the DB\n",
    "session = Session(conn)\n",
    "\n",
    "\n",
    "# THIS IS TO MAKE SURE I KNOW THE COLUMN NAME I WILL BE WORKING WITH\n",
    "first_row = session.query(measurements).first()\n",
    "first_row.__dict__"
   ]
  },
  {
   "cell_type": "code",
   "execution_count": null,
   "id": "d54c76cd-c9d1-4c40-beaa-30ea5354b890",
   "metadata": {},
   "outputs": [],
   "source": []
  }
 ],
 "metadata": {
  "kernelspec": {
   "display_name": "Python 3",
   "language": "python",
   "name": "python3"
  },
  "language_info": {
   "codemirror_mode": {
    "name": "ipython",
    "version": 3
   },
   "file_extension": ".py",
   "mimetype": "text/x-python",
   "name": "python",
   "nbconvert_exporter": "python",
   "pygments_lexer": "ipython3",
   "version": "3.8.8"
  },
  "toc-autonumbering": true,
  "toc-showmarkdowntxt": true
 },
 "nbformat": 4,
 "nbformat_minor": 5
}
